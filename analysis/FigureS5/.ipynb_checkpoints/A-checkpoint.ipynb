{
 "cells": [
  {
   "cell_type": "code",
   "execution_count": 1,
   "id": "7e54b3c2",
   "metadata": {},
   "outputs": [
    {
     "name": "stderr",
     "output_type": "stream",
     "text": [
      "Matplotlib created a temporary cache directory at /scratch/naotok/3243018/matplotlib-4uih8t8u because the default path (/home/jovyan/.cache/matplotlib) is not a writable directory; it is highly recommended to set the MPLCONFIGDIR environment variable to a writable directory, in particular to speed up the import of Matplotlib and to better support multiprocessing.\n"
     ]
    }
   ],
   "source": [
    "import pandas as pd\n",
    "pd.set_option(\"display.max_columns\", 1000)\n",
    "import matplotlib.pyplot as plt\n",
    "import seaborn as sns\n",
    "sns.set_style('ticks')\n",
    "import numpy as np\n",
    "from scipy.cluster.hierarchy import dendrogram, linkage\n",
    "from scipy.cluster import hierarchy"
   ]
  },
  {
   "cell_type": "code",
   "execution_count": 2,
   "id": "e9d79311",
   "metadata": {},
   "outputs": [],
   "source": [
    "Emx_df = pd.read_csv(\n",
    "\n",
    "    \"/rhome/naotok/bigdata/Upf2_paper/Upf2KO_Emx_cortex.csv\"\n",
    "\n",
    ")\n",
    "\n",
    "Emx_df = Emx_df[[x for x in Emx_df.columns if x.startswith(\"TPM_\")]]\n",
    "Emx_df.columns = [\"KO_1\", \"KO_2\", \"Ctrl_1\", \"Ctrl_2\"]\n",
    "Emx_df = Emx_df.T\n",
    "Emx_df = Emx_df.T[~(Emx_df.sum() == 0)]"
   ]
  },
  {
   "cell_type": "code",
   "execution_count": 3,
   "id": "96ca64ee",
   "metadata": {},
   "outputs": [],
   "source": [
    "# Take log10\n",
    "Emx_log_df = np.log10(Emx_df+1)"
   ]
  },
  {
   "cell_type": "code",
   "execution_count": 4,
   "id": "a8cdfc98",
   "metadata": {},
   "outputs": [],
   "source": [
    "Emx_group_col = pd.Series([\n",
    "    \"KO\", \"KO\",\n",
    "    \"WT\", \"WT\"\n",
    "])\n",
    "Emx_group_lut = dict(zip(Emx_group_col.unique(), sns.color_palette(\"tab10\")[0:2][::-1]))\n",
    "Emx_group_colors = Emx_group_col.map(Emx_group_lut)"
   ]
  },
  {
   "cell_type": "code",
   "execution_count": 5,
   "id": "da7a0638",
   "metadata": {},
   "outputs": [
    {
     "data": {
      "image/png": "[encoded data removed]",
      "text/plain": [
       "<Figure size 300x300 with 1 Axes>"
      ]
     },
     "metadata": {},
     "output_type": "display_data"
    }
   ],
   "source": [
    "# Only dendrogram\n",
    "Z = linkage(Emx_log_df.T, 'ward')\n",
    "hierarchy.set_link_color_palette([\"black\"])\n",
    "fig = plt.figure(figsize = (3, 3))\n",
    "ax = fig.add_subplot()\n",
    "dn = dendrogram(Z, above_threshold_color = 'black', labels = Emx_log_df.columns)\n",
    "ax.set(ylabel = \"Distance\")\n",
    "sns.despine(bottom = True)\n",
    "plt.tight_layout()\n",
    "\n",
    "plt.savefig(\"/rhome/naotok/Upf2_paper/figure/Emx_Upf2_KO_RNAseq_TPM_dendrogram.png\", dpi = 1000)"
   ]
  }
 ],
 "metadata": {
  "kernelspec": {
   "display_name": "Python 3 (ipykernel)",
   "language": "python",
   "name": "python3"
  },
  "language_info": {
   "codemirror_mode": {
    "name": "ipython",
    "version": 3
   },
   "file_extension": ".py",
   "mimetype": "text/x-python",
   "name": "python",
   "nbconvert_exporter": "python",
   "pygments_lexer": "ipython3",
   "version": "3.10.6"
  }
 },
 "nbformat": 4,
 "nbformat_minor": 5
}
